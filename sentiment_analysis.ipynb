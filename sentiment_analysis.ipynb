{
 "cells": [
  {
   "cell_type": "code",
   "execution_count": null,
   "id": "e4e2e84d",
   "metadata": {},
   "outputs": [],
   "source": [
    "# This is a model that uses the nlp model to perform sentiment analysis on a dataset of consumer reviews of Amazon Products\n",
    "\n",
    "# Import all necessary library to load csv file and perform nlp\n",
    "import pandas as pd\n",
    "import spacy\n",
    "from textblob import TextBlob\n",
    "from colorama import Fore, Style\n",
    "\n",
    "# This will load SpaCy english model \n",
    "nlp = spacy.load(\"en_core_web_lg\")\n",
    "\n",
    "# Reading the csv file into a dataframe\n",
    "df = pd.read_csv(\"C:\\\\Users\\\\Teju\\\\Downloads\\\\amazon_product_reviews.csv\")\n",
    "\n",
    "# Covert all texts in the reviews.text column into lower strings\n",
    "reviews_data = df['reviews.text'].str.lower()\n",
    "\n",
    "# Removing all missing values from the column\n",
    "clean_data = reviews_data.dropna()\n",
    "\n",
    "# Remove non-alphanumeric characters from the beginning and end of each review\n",
    "striped_data = clean_data.str.replace(r\"^\\W+|\\W+$\", \"\")\n",
    "\n",
    "# Defining a function that will take a product review and predict its sentiment\n",
    "def predict_review_sentiment(review):\n",
    "    # Process the review using SpaCy\n",
    "    doc = nlp(review)\n",
    "\n",
    "    # Removing stopwords and joining back the cleaned tokens\n",
    "    stopwords_removed = [token.text for token in doc if not token.is_stop]\n",
    "    cleaned_review = ' '.join(stopwords_removed)\n",
    "\n",
    "    # Perform sentiment analysis using TextBlob\n",
    "    blob = TextBlob(cleaned_review)\n",
    "    polarity = blob.sentiment.polarity\n",
    "\n",
    "    # Determine sentiment label\n",
    "    if polarity > 0:\n",
    "        return 'positive'\n",
    "    elif polarity < 0:\n",
    "        return 'negative'\n",
    "    else:\n",
    "        return 'neutral'\n",
    "\n",
    "# Test the model on sample product review by using index\n",
    "amazon_review_of_choice = striped_data.iloc[0]  # change the index to see the sentiment\n",
    "sentiment_label = predict_review_sentiment(my_review_of_choice)\n",
    "\n",
    "formatted_select_review = f\"{Fore.BLUE}{Style.BRIGHT}Select Review: {amazon_review_of_choice}{Style.RESET_ALL}\"\n",
    "\n",
    "print(formatted_select_review)\n",
    "print(f'Select Review: {amazon_review_of_choice}')\n",
    "print(\" \")\n",
    "print(f\"Predicted Sentiment: {sentiment_label}\")\n"
   ]
  },
  {
   "cell_type": "code",
   "execution_count": 26,
   "id": "676167cf",
   "metadata": {},
   "outputs": [
    {
     "name": "stdout",
     "output_type": "stream",
     "text": [
      "1st Review: i thought it would be as big as small paper but turn out to be just like my palm. i think it is too small to read on it... not very comfortable as regular kindle. would definitely recommend a paperwhite instead.\n",
      " \n",
      "2nd Review: this kindle is light and easy to use especially at the beach!!!\n",
      " \n",
      "Similarity Score: 0.779\n"
     ]
    }
   ],
   "source": [
    "# Define a function that will calculate the similarity score between two reviews\n",
    "def calculate_similarity(review1, review2):\n",
    "    first_review = nlp(review1)\n",
    "    second_review = nlp(review2)\n",
    "    similarity_score = first_review.similarity(second_review)\n",
    "    return similarity_score\n",
    "\n",
    "# Choose the two reviews you want to calculate their similarity score by changing the index\n",
    "sample_review1 = striped_data.iloc[0]\n",
    "sample_review2 = striped_data.iloc[1]\n",
    "\n",
    "similarity_score = calculate_similarity(sample_review1, sample_review2)\n",
    "\n",
    "print(f\"1st Review: {sample_review1}\")\n",
    "print(\" \")\n",
    "print(f\"2nd Review: {sample_review2}\")\n",
    "print(\" \")\n",
    "print(f\"Similarity Score: {similarity_score:.3f}\")"
   ]
  },
  {
   "cell_type": "code",
   "execution_count": null,
   "id": "02800657",
   "metadata": {},
   "outputs": [],
   "source": []
  }
 ],
 "metadata": {
  "kernelspec": {
   "display_name": "Python 3 (ipykernel)",
   "language": "python",
   "name": "python3"
  },
  "language_info": {
   "codemirror_mode": {
    "name": "ipython",
    "version": 3
   },
   "file_extension": ".py",
   "mimetype": "text/x-python",
   "name": "python",
   "nbconvert_exporter": "python",
   "pygments_lexer": "ipython3",
   "version": "3.11.5"
  }
 },
 "nbformat": 4,
 "nbformat_minor": 5
}
